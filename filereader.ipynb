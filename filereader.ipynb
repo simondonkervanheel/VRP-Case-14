{
 "nbformat": 4,
 "nbformat_minor": 2,
 "metadata": {
  "language_info": {
   "name": "python",
   "codemirror_mode": {
    "name": "ipython",
    "version": 3
   },
   "version": "3.8.2-final"
  },
  "orig_nbformat": 2,
  "file_extension": ".py",
  "mimetype": "text/x-python",
  "name": "python",
  "npconvert_exporter": "python",
  "pygments_lexer": "ipython3",
  "version": 3,
  "kernelspec": {
   "name": "python38264bit438f252178cc4be39a756346337dc1a0",
   "display_name": "Python 3.8.2 64-bit"
  }
 },
 "cells": [
  {
   "cell_type": "code",
   "execution_count": 43,
   "metadata": {},
   "outputs": [],
   "source": [
    "import time as time\n",
    "start_time = time.time()\n",
    "#print(\"- %s seconds -\" % (time.time() - start_time))"
   ]
  },
  {
   "cell_type": "code",
   "execution_count": 44,
   "metadata": {},
   "outputs": [],
   "source": [
    "# skips blank lines\n",
    "def nextLine(f):\n",
    "    l = f.readline().rstrip()\n",
    "    while  (not l):\n",
    "        l = f.readline().rstrip()\n",
    "    return l"
   ]
  },
  {
   "cell_type": "code",
   "execution_count": 46,
   "metadata": {},
   "outputs": [
    {
     "name": "stdout",
     "output_type": "stream",
     "text": "DATASET = co2020 case challenge part\nNAME = tools over vehicles over vehicle days over distance with 100 requests over 10 days\nDAYS = 10\n"
    }
   ],
   "source": [
    "f=open(\"Challenges/co2020_challenge_r100d10_1.txt\", \"r\")\n",
    "\n",
    "DATASET_L = nextLine(f)\n",
    "NAME_L = nextLine(f)\n",
    "print(DATASET_L)\n",
    "print(NAME_L)\n",
    "\n",
    "DAYS_L = nextLine(f)\n",
    "print(DAYS_L)\n",
    "\n",
    "f.close()"
   ]
  }
 ]
}