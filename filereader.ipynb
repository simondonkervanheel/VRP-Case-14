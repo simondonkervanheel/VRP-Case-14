{
 "nbformat": 4,
 "nbformat_minor": 2,
 "metadata": {
  "language_info": {
   "name": "python",
   "codemirror_mode": {
    "name": "ipython",
    "version": 3
   },
   "version": "3.8.2-final"
  },
  "orig_nbformat": 2,
  "file_extension": ".py",
  "mimetype": "text/x-python",
  "name": "python",
  "npconvert_exporter": "python",
  "pygments_lexer": "ipython3",
  "version": 3,
  "kernelspec": {
   "name": "python38264bit438f252178cc4be39a756346337dc1a0",
   "display_name": "Python 3.8.2 64-bit"
  }
 },
 "cells": [
  {
   "cell_type": "code",
   "execution_count": 5,
   "metadata": {},
   "outputs": [],
   "source": [
    "import time as time\n",
    "import re\n",
    "# start_time = time.time()\n",
    "# print(\"- %s seconds -\" % (time.time() - start_time))"
   ]
  },
  {
   "cell_type": "code",
   "execution_count": 6,
   "metadata": {},
   "outputs": [
    {
     "name": "stdout",
     "output_type": "stream",
     "text": "DATASET = co2020 case challenge part\n\nNAME = tools over vehicles over vehicle days over distance with 100 requests over 10 days\n\n\n\nDAYS = 10\n\nCAPACITY = 50\n\nMAX_TRIP_DISTANCE = 16000\n\nDEPOT_COORDINATE = 0\n\n\n\nVEHICLE_COST = 500000\n\nVEHICLE_DAY_COST = 4000\n\nDISTANCE_COST = 1\n\n\n\nTOOLS = 5\n\n1\t9\t30\t40000000\n\n2\t9\t14\t50000000\n\n3\t6\t16\t50000000\n\n4\t15\t28\t50000000\n\n5\t9\t24\t30000000\n\n\n\nCOORDINATES = 100\n\n0\t5445\t2890\n\n1\t9432\t6187\n\n2\t3500\t6242\n\n3\t8109\t6259\n\n4\t8105\t6278\n\n5\t7406\t6292\n\n6\t7324\t6371\n\n7\t8424\t6471\n\n8\t8023\t6961\n\n9\t9177\t6997\n\n10\t4570\t7041\n\n11\t4316\t7136\n\n12\t8709\t7190\n\n13\t6029\t7271\n\n14\t3527\t7281\n\n15\t7522\t7297\n\n16\t7793\t7324\n\n17\t3817\t7378\n\n18\t5651\t7651\n\n19\t6682\t8406\n\n20\t8429\t4405\n\n21\t6120\t8058\n\n22\t5469\t8117\n\n23\t7722\t8360\n\n24\t8047\t8427\n\n25\t8864\t8461\n\n26\t8271\t8512\n\n27\t9131\t6013\n\n28\t7903\t8954\n\n29\t9656\t9039\n\n30\t3820\t4614\n\n31\t6051\t8623\n\n32\t8364\t9260\n\n33\t6943\t9340\n\n34\t7017\t9519\n\n35\t6909\t9562\n\n36\t4186\t2814\n\n37\t2427\t2853\n\n38\t8354\t4859\n\n39\t8770\t6891\n\n40\t6160\t2903\n\n41\t3899\t5109\n\n42\t6668\t306\n\n43\t4867\t3186\n\n44\t7300\t5199\n\n45\t8652\t5272\n\n46\t3935\t5282\n\n47\t6848\t1434\n\n48\t7397\t7981\n\n49\t6005\t1647\n\n50\t6559\t1778\n\n51\t4951\t1899\n\n52\t6702\t2150\n\n53\t6059\t2157\n\n54\t5892\t2163\n\n55\t5426\t3505\n\n56\t5666\t2753\n\n57\t549\t2772\n\n58\t2308\t2894\n\n59\t5322\t3039\n\n60\t5565\t3402\n\n61\t3971\t3403\n\n62\t7150\t7692\n\n63\t6136\t3557\n\n64\t4863\t3695\n\n65\t4635\t4025\n\n66\t4234\t6662\n\n67\t5770\t4080\n\n68\t4328\t4197\n\n69\t8598\t4389\n\n70\t7849\t4398\n\n71\t8107\t4407\n\n72\t7735\t4435\n\n73\t8189\t4502\n\n74\t7709\t4552\n\n75\t4116\t4572\n\n76\t8533\t4642\n\n77\t8426\t4669\n\n78\t8460\t4730\n\n79\t8122\t4764\n\n80\t5443\t4856\n\n81\t7274\t4956\n\n82\t7185\t4977\n\n83\t3794\t5082\n\n84\t5068\t3959\n\n85\t4486\t5145\n\n86\t3152\t5188\n\n87\t3184\t5216\n\n88\t8964\t5270\n\n89\t3768\t5288\n\n90\t7866\t5342\n\n91\t8077\t5393\n\n92\t7564\t5413\n\n93\t3818\t5489\n\n94\t7398\t5577\n\n95\t9146\t5677\n\n96\t4909\t4058\n\n97\t8366\t5913\n\n98\t7070\t6001\n\n99\t8199\t6105\n\n\n\nREQUESTS = 100\n\n1\t19\t2\t3\t2\t4\t3\n\n2\t40\t4\t5\t3\t4\t1\n\n3\t30\t5\t8\t2\t4\t1\n\n4\t88\t7\t9\t1\t2\t1\n\n5\t20\t2\t4\t3\t1\t3\n\n6\t59\t3\t4\t2\t5\t3\n\n7\t93\t1\t4\t1\t5\t3\n\n8\t47\t5\t6\t3\t3\t2\n\n9\t24\t4\t6\t3\t5\t2\n\n10\t31\t3\t5\t3\t1\t1\n\n11\t46\t5\t6\t3\t5\t3\n\n12\t8\t2\t3\t3\t1\t2\n\n13\t48\t1\t3\t3\t4\t3\n\n14\t44\t6\t8\t2\t4\t1\n\n15\t38\t1\t3\t2\t5\t2\n\n16\t78\t3\t6\t2\t1\t2\n\n17\t22\t4\t7\t2\t5\t2\n\n18\t43\t1\t4\t3\t4\t3\n\n19\t23\t3\t6\t2\t5\t2\n\n20\t65\t2\t5\t1\t4\t1\n\n21\t6\t5\t6\t2\t4\t1\n\n22\t16\t5\t6\t1\t5\t3\n\n23\t92\t7\t8\t2\t4\t1\n\n24\t1\t3\t6\t2\t1\t3\n\n25\t49\t4\t7\t3\t5\t3\n\n26\t57\t4\t5\t2\t5\t3\n\n27\t71\t2\t5\t2\t2\t2\n\n28\t13\t4\t7\t3\t4\t2\n\n29\t78\t1\t4\t2\t5\t2\n\n30\t89\t3\t6\t2\t2\t1\n\n31\t87\t4\t6\t2\t3\t2\n\n32\t96\t3\t5\t2\t5\t1\n\n33\t61\t4\t7\t3\t4\t1\n\n34\t50\t4\t6\t3\t4\t3\n\n35\t68\t4\t6\t3\t3\t1\n\n36\t27\t1\t4\t3\t4\t3\n\n37\t5\t2\t5\t2\t2\t3\n\n38\t63\t7\t8\t2\t5\t3\n\n39\t90\t5\t8\t2\t4\t3\n\n40\t39\t3\t5\t3\t1\t2\n\n41\t56\t7\t8\t2\t5\t1\n\n42\t84\t4\t7\t1\t4\t2\n\n43\t29\t2\t4\t3\t1\t2\n\n44\t7\t3\t6\t2\t5\t2\n\n45\t21\t1\t2\t3\t5\t1\n\n46\t26\t5\t7\t3\t5\t1\n\n47\t83\t1\t3\t3\t4\t3\n\n48\t41\t6\t8\t1\t5\t1\n\n49\t67\t4\t6\t3\t3\t1\n\n50\t9\t3\t6\t3\t2\t2\n\n51\t14\t4\t6\t3\t4\t1\n\n52\t91\t6\t8\t2\t4\t1\n\n53\t32\t3\t5\t2\t3\t3\n\n54\t58\t3\t6\t3\t1\t3\n\n55\t17\t3\t5\t2\t1\t2\n\n56\t33\t5\t6\t1\t4\t1\n\n57\t42\t5\t7\t3\t3\t2\n\n58\t3\t1\t3\t1\t1\t1\n\n59\t94\t1\t3\t1\t1\t3\n\n60\t35\t5\t8\t2\t3\t3\n\n61\t82\t2\t4\t1\t3\t2\n\n62\t75\t2\t3\t2\t3\t1\n\n63\t18\t2\t5\t1\t4\t3\n\n64\t85\t1\t3\t2\t3\t1\n\n65\t74\t6\t8\t1\t1\t2\n\n66\t45\t2\t5\t3\t2\t2\n\n67\t64\t1\t3\t1\t3\t3\n\n68\t98\t4\t5\t3\t1\t3\n\n69\t36\t4\t6\t2\t4\t3\n\n70\t77\t7\t8\t2\t1\t3\n\n71\t69\t4\t7\t3\t2\t1\n\n72\t60\t3\t6\t2\t1\t1\n\n73\t12\t8\t9\t1\t1\t3\n\n74\t2\t3\t6\t2\t4\t3\n\n75\t95\t4\t7\t1\t5\t1\n\n76\t15\t5\t6\t3\t4\t1\n\n77\t10\t2\t3\t3\t4\t3\n\n78\t73\t1\t4\t1\t3\t2\n\n79\t11\t2\t3\t2\t5\t2\n\n80\t62\t4\t7\t3\t2\t3\n\n81\t66\t4\t7\t3\t1\t3\n\n82\t34\t1\t3\t2\t1\t3\n\n83\t55\t3\t5\t1\t2\t3\n\n84\t86\t4\t7\t3\t1\t2\n\n85\t72\t1\t2\t1\t3\t1\n\n86\t4\t1\t2\t3\t3\t3\n\n87\t80\t2\t5\t3\t1\t2\n\n88\t70\t6\t8\t2\t4\t3\n\n89\t37\t4\t7\t3\t1\t2\n\n90\t99\t2\t3\t1\t5\t1\n\n91\t53\t5\t8\t1\t4\t3\n\n92\t52\t4\t5\t2\t4\t2\n\n93\t81\t6\t7\t3\t5\t1\n\n94\t51\t6\t7\t3\t3\t3\n\n95\t97\t2\t5\t1\t5\t3\n\n96\t25\t7\t8\t2\t1\t3\n\n97\t79\t6\t7\t3\t5\t1\n\n98\t76\t3\t6\t3\t2\t1\n\n99\t54\t2\t3\t1\t5\t3\n\n100\t28\t2\t5\t2\t1\t1\n\n\n\n"
    }
   ],
   "source": [
    "# To see the file\n",
    "f=open(\"Challenges/co2020_challenge_r100d10_1.txt\", \"r\")\n",
    "for l in f:\n",
    "    print(l)"
   ]
  },
  {
   "cell_type": "code",
   "execution_count": 7,
   "metadata": {},
   "outputs": [],
   "source": [
    "# skips blank lines\n",
    "def nextLine(f):\n",
    "    l = f.readline().rstrip()\n",
    "    while  (not l):\n",
    "        l = f.readline().rstrip()\n",
    "    return l\n",
    "\n",
    "# name = \"int\"\n",
    "def intFromLine(line):\n",
    "    return int(re.search(\"(?<==\\s)\\d+\", line).group())\n",
    "\n",
    "# name = \"string\"\n",
    "def stringFromLine(line):\n",
    "    return int(re.search(\"(?<==\\s)\\d+\", line).group())\n",
    "\n",
    "def readTool(l):\n",
    "    r = re.split(\"\\t\",l)\n",
    "    tool = {\n",
    "        \"id\": int(r[0]),\n",
    "        \"size\": int(r[1]),\n",
    "        \"capacity\": int(r[2]),\n",
    "        \"cost\": int(r[3])\n",
    "    }\n",
    "    return tool"
   ]
  },
  {
   "cell_type": "code",
   "execution_count": 8,
   "metadata": {},
   "outputs": [
    {
     "name": "stdout",
     "output_type": "stream",
     "text": "[{'id': 1, 'size': 9, 'capacity': 30, 'cost': 40000000}, {'id': 2, 'size': 9, 'capacity': 14, 'cost': 50000000}, {'id': 3, 'size': 6, 'capacity': 16, 'cost': 50000000}, {'id': 4, 'size': 15, 'capacity': 28, 'cost': 50000000}, {'id': 5, 'size': 9, 'capacity': 24, 'cost': 30000000}]\n"
    }
   ],
   "source": [
    "f=open(\"Challenges/co2020_challenge_r100d10_1.txt\", \"r\")\n",
    "\n",
    "# HANDLE FILE INFO\n",
    "DATASET = re.search(\"(?<==\\s).+\", nextLine(f)).group()\n",
    "NAME = re.search(\"(?<==\\s).+\", nextLine(f)).group()\n",
    "\n",
    "# HANDLE GENERAL INFO\n",
    "DAYS = intFromLine(nextLine(f))\n",
    "CAPACITY = intFromLine(nextLine(f))\n",
    "MAX_TRIP_DISTANCE = intFromLine(nextLine(f))\n",
    "DEPOT_COORDINATE = intFromLine(nextLine(f))\n",
    "\n",
    "# HANDLE VEHICLE COSTS\n",
    "VEHICLE_COST = intFromLine(nextLine(f))\n",
    "VEHICLE_DAY_COST = intFromLine(nextLine(f))\n",
    "DISTANCE_COST = intFromLine(nextLine(f))\n",
    "\n",
    "# HANDLE TOOLS\n",
    "TOOLS = intFromLine(nextLine(f))\n",
    "tools = []\n",
    "for i in range(TOOLS):\n",
    "    tools.append(readTool(f.readline()))\n",
    "\n",
    "print(tools)\n",
    "\n",
    "\n",
    "f.close()"
   ]
  },
  {
   "cell_type": "code",
   "execution_count": null,
   "metadata": {},
   "outputs": [],
   "source": []
  }
 ]
}