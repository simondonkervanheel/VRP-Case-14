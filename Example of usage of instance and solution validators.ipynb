{
 "cells": [
  {
   "cell_type": "markdown",
   "metadata": {},
   "source": [
    "# Example of usage of the instance and solution validators \n",
    "\n",
    "This notebook assumes that https://co2020-ba-vu.challenges.ortec.com/zips/Validator.zip has been unpacked to a subdirectory of the current directory called `ParticipantsSuite`, changes to a different location are obvious. \n",
    "\n",
    "It also assumes a subdirectory `instances` containing the instance files. "
   ]
  },
  {
   "cell_type": "code",
   "execution_count": 1,
   "metadata": {},
   "outputs": [],
   "source": [
    "import sys\n",
    "import os\n",
    "sys.path.append('./ParticipantsSuite')\n",
    "\n",
    "from InstanceCVRPTWUI import InstanceCVRPTWUI\n",
    "from SolutionCVRPTWUI import SolutionCVRPTWUI"
   ]
  },
  {
   "cell_type": "markdown",
   "metadata": {},
   "source": [
    "Assuming that what you mean by 'how to use the code of the VeroLog solver?' is actually a question about the instance and solution validators, please find examples below. "
   ]
  },
  {
   "cell_type": "code",
   "execution_count": 8,
   "metadata": {},
   "outputs": [
    {
     "output_type": "stream",
     "name": "stdout",
     "text": "[[   0 3488 3945 ... 3273 3557 3782]\n [3488    0 3268 ... 2747 3251 3586]\n [3945 3268    0 ...  715  442  513]\n ...\n [3273 2747  715 ...    0  511  850]\n [3557 3251  442 ...  511    0  339]\n [3782 3586  513 ...  850  339    0]]\n1\t2\t280\t10000\n2\t14\t135\t10000\n0\t5445\t2890\n1\t4275\t6176\n2\t7543\t6232\n3\t6788\t6348\n4\t7867\t6402\n5\t6918\t6441\n6\t6812\t6463\n7\t3366\t6496\n8\t7480\t6561\n9\t8197\t6594\n10\t7699\t6674\n11\t7022\t6693\n12\t3979\t6765\n13\t3698\t6826\n14\t4245\t6835\n15\t4281\t4251\n16\t4797\t7038\n17\t4382\t7144\n18\t8665\t7168\n19\t6733\t7175\n20\t3936\t7201\n21\t3919\t7301\n22\t7667\t7301\n23\t8214\t7316\n24\t3845\t7358\n25\t7097\t7417\n26\t7309\t7458\n27\t4211\t7472\n28\t7038\t7545\n29\t7367\t7549\n30\t7913\t7601\n31\t7905\t7615\n32\t6507\t7633\n33\t6659\t7747\n34\t7400\t7892\n35\t8364\t7936\n36\t4328\t7959\n37\t8468\t7997\n38\t7313\t8064\n39\t7161\t8069\n40\t9984\t8101\n41\t7549\t8106\n42\t7294\t8201\n43\t9802\t8218\n44\t6472\t8233\n45\t7505\t4478\n46\t6742\t8297\n47\t7634\t8349\n48\t5487\t8510\n49\t6334\t8437\n50\t5884\t8471\n51\t6748\t8525\n52\t9691\t8533\n53\t6396\t6539\n54\t9405\t8733\n55\t5992\t2562\n56\t8103\t8828\n57\t7065\t8965\n58\t7713\t9066\n59\t6550\t9141\n60\t7421\t9352\n61\t8624\t9374\n62\t8770\t6891\n63\t4225\t4892\n64\t3154\t4904\n65\t4273\t4498\n66\t8604\t7015\n67\t8102\t9316\n68\t6717\t9117\n69\t6395\t66\n70\t6208\t447\n71\t6560\t718\n72\t8730\t5379\n73\t3023\t5412\n74\t6752\t9450\n75\t6385\t2006\n76\t5036\t2008\n77\t5693\t2073\n78\t5400\t2137\n79\t5691\t2146\n80\t6742\t2421\n81\t4859\t2666\n82\t4106\t2668\n83\t4791\t2699\n84\t3881\t2708\n85\t2421\t2799\n86\t3402\t2897\n87\t6273\t2956\n88\t5560\t3033\n89\t4139\t7619\n90\t3207\t3042\n91\t4892\t3082\n92\t4098\t3096\n93\t4899\t3142\n94\t5410\t3202\n95\t5219\t4634\n96\t2793\t3295\n97\t5647\t3388\n98\t4053\t3412\n99\t5576\t3432\n100\t4581\t3456\n101\t5564\t3477\n102\t7931\t5711\n103\t7512\t5714\n104\t4954\t3671\n105\t6394\t3676\n106\t5448\t3686\n107\t4648\t3765\n108\t4794\t3795\n109\t5598\t3843\n110\t1738\t3751\n111\t5587\t4000\n112\t7009\t4035\n113\t3893\t4067\n114\t4842\t4664\n115\t7150\t7807\n116\t3585\t4203\n117\t5889\t3815\n118\t5599\t4293\n119\t6051\t4305\n120\t3714\t4339\n121\t4714\t4452\n122\t7897\t4568\n123\t4116\t4572\n124\t4381\t4572\n125\t8399\t4655\n126\t5674\t4792\n127\t8422\t4804\n128\t7921\t5027\n129\t3058\t5073\n130\t5526\t5075\n131\t6953\t5140\n132\t8622\t5252\n133\t7478\t4403\n134\t8862\t5311\n135\t7842\t5440\n136\t3818\t5489\n137\t7091\t5492\n138\t7816\t5497\n139\t2175\t4022\n140\t7108\t5509\n141\t4106\t5510\n142\t8506\t5540\n143\t9445\t5698\n144\t8576\t5708\n145\t7693\t5714\n146\t9126\t6064\n147\t7435\t5735\n148\t6993\t5774\n149\t7504\t5791\n150\t7843\t5815\n1\t45\t2\t3\t1\t1\t2\n2\t113\t3\t4\t1\t2\t3\n3\t61\t1\t2\t3\t1\t2\n4\t36\t1\t4\t1\t1\t8\n5\t38\t1\t1\t3\t2\t5\n6\t72\t3\t3\t1\t1\t2\n7\t22\t1\t1\t3\t2\t5\n8\t69\t1\t2\t3\t1\t2\n9\t140\t3\t3\t1\t2\t5\n10\t121\t2\t4\t1\t1\t1\n11\t58\t1\t1\t3\t2\t3\n12\t129\t1\t2\t2\t1\t9\n13\t64\t1\t3\t2\t1\t3\n14\t96\t4\t4\t1\t2\t1\n15\t15\t1\t3\t2\t2\t2\n16\t109\t2\t2\t3\t2\t1\n17\t111\t1\t1\t3\t1\t8\n18\t27\t3\t3\t2\t1\t8\n19\t112\t1\t4\t1\t2\t3\n20\t67\t1\t3\t2\t1\t6\n21\t2\t3\t3\t2\t2\t3\n22\t76\t4\t4\t1\t2\t3\n23\t99\t1\t1\t3\t2\t5\n24\t16\t1\t3\t2\t1\t9\n25\t35\t2\t2\t2\t1\t3\n26\t81\t1\t2\t3\t2\t1\n27\t97\t1\t3\t2\t1\t3\n28\t115\t1\t2\t2\t1\t10\n29\t130\t4\t4\t1\t2\t5\n30\t122\t1\t1\t3\t1\t6\n31\t148\t1\t2\t3\t1\t5\n32\t147\t1\t1\t3\t2\t4\n33\t48\t1\t2\t3\t1\t10\n34\t30\t1\t1\t2\t2\t2\n35\t18\t1\t1\t3\t1\t7\n36\t62\t1\t1\t1\t2\t4\n37\t4\t1\t3\t2\t1\t2\n38\t24\t1\t4\t1\t1\t9\n39\t6\t1\t2\t2\t1\t3\n40\t31\t2\t2\t3\t2\t3\n41\t149\t1\t1\t3\t1\t8\n42\t68\t2\t2\t3\t2\t3\n43\t82\t1\t4\t1\t2\t4\n44\t105\t1\t2\t2\t1\t1\n45\t110\t1\t2\t3\t1\t10\n46\t52\t2\t3\t2\t2\t4\n47\t93\t1\t1\t3\t1\t7\n48\t41\t4\t4\t1\t1\t6\n49\t125\t1\t2\t3\t1\t3\n50\t108\t1\t4\t1\t1\t2\n51\t104\t2\t3\t2\t1\t4\n52\t70\t2\t2\t3\t1\t5\n53\t75\t2\t2\t3\t1\t1\n54\t85\t1\t3\t2\t1\t10\n55\t114\t1\t3\t2\t1\t9\n56\t25\t2\t2\t3\t2\t4\n57\t10\t1\t2\t3\t1\t1\n58\t131\t1\t4\t1\t1\t7\n59\t132\t1\t1\t3\t2\t5\n60\t23\t1\t3\t2\t1\t10\n61\t50\t2\t2\t1\t1\t3\n62\t144\t1\t2\t3\t2\t2\n63\t32\t1\t2\t3\t1\t6\n64\t26\t1\t2\t3\t1\t2\n65\t59\t1\t2\t3\t2\t5\n66\t141\t1\t1\t3\t1\t7\n67\t60\t1\t3\t2\t1\t6\n68\t139\t3\t4\t1\t1\t10\n69\t11\t3\t4\t1\t2\t2\n70\t116\t1\t2\t3\t2\t2\n71\t29\t1\t3\t2\t2\t2\n72\t124\t1\t1\t2\t1\t10\n73\t119\t2\t2\t3\t2\t1\n74\t100\t2\t4\t1\t1\t2\n75\t43\t3\t3\t1\t2\t2\n76\t54\t3\t3\t2\t1\t9\n77\t73\t1\t1\t3\t1\t5\n78\t42\t1\t4\t1\t2\t5\n79\t101\t2\t2\t3\t1\t5\n80\t84\t1\t2\t1\t1\t3\n81\t79\t1\t2\t3\t1\t2\n82\t94\t2\t4\t1\t1\t2\n83\t53\t1\t2\t1\t2\t3\n84\t103\t1\t2\t3\t1\t2\n85\t92\t1\t2\t3\t1\t8\n86\t55\t3\t4\t1\t1\t1\n87\t102\t1\t4\t1\t1\t4\n88\t143\t4\t4\t1\t2\t5\n89\t86\t1\t2\t3\t1\t10\n90\t80\t1\t1\t3\t2\t4\n91\t34\t1\t4\t1\t1\t2\n92\t1\t1\t1\t3\t2\t4\n93\t123\t2\t2\t2\t2\t4\n94\t135\t1\t1\t1\t1\t6\n95\t46\t1\t2\t1\t1\t7\n96\t19\t2\t3\t2\t2\t4\n97\t90\t1\t2\t2\t2\t3\n98\t126\t1\t3\t2\t1\t5\n99\t74\t1\t2\t3\t2\t1\n100\t89\t3\t3\t1\t1\t1\n101\t138\t1\t4\t1\t2\t3\n102\t20\t1\t1\t2\t2\t4\n103\t77\t1\t3\t2\t2\t5\n104\t83\t1\t3\t1\t2\t1\n105\t14\t2\t2\t3\t2\t4\n106\t142\t1\t2\t2\t2\t5\n107\t66\t1\t2\t2\t2\t4\n108\t33\t1\t4\t1\t2\t4\n109\t17\t2\t2\t1\t1\t1\n110\t118\t2\t3\t2\t2\t1\n111\t128\t1\t2\t3\t1\t9\n112\t47\t1\t1\t2\t2\t2\n113\t145\t1\t2\t3\t2\t5\n114\t28\t2\t4\t1\t1\t10\n115\t5\t2\t3\t1\t1\t2\n116\t98\t2\t2\t3\t2\t2\n117\t3\t1\t2\t3\t1\t1\n118\t65\t1\t2\t3\t1\t8\n119\t150\t3\t4\t1\t2\t5\n120\t120\t2\t2\t3\t2\t2\n121\t146\t3\t3\t1\t2\t5\n122\t56\t3\t4\t1\t2\t2\n123\t127\t2\t4\t1\t1\t3\n124\t134\t1\t2\t2\t1\t5\n125\t136\t1\t2\t3\t1\t6\n126\t37\t1\t2\t3\t2\t5\n127\t63\t1\t1\t3\t1\t5\n128\t88\t2\t2\t3\t1\t3\n129\t51\t1\t2\t3\t2\t3\n130\t117\t2\t2\t2\t1\t7\n131\t78\t2\t2\t3\t1\t8\n132\t71\t2\t3\t2\t1\t8\n133\t87\t1\t1\t3\t1\t6\n134\t133\t1\t1\t2\t2\t2\n135\t107\t3\t3\t2\t2\t2\n136\t12\t4\t4\t1\t2\t4\n137\t13\t1\t2\t2\t2\t3\n138\t137\t3\t3\t2\t2\t1\n139\t40\t2\t2\t3\t1\t8\n140\t44\t1\t2\t3\t2\t2\n141\t91\t1\t2\t3\t1\t1\n142\t9\t1\t2\t2\t1\t6\n143\t57\t2\t4\t1\t2\t1\n144\t106\t2\t4\t1\t1\t3\n145\t21\t1\t1\t3\t1\t2\n146\t8\t2\t4\t1\t2\t5\n147\t49\t2\t2\t2\t2\t3\n148\t7\t1\t2\t3\t2\t5\n149\t39\t4\t4\t1\t2\t4\n150\t95\t1\t3\t1\t2\t5\n"
    }
   ],
   "source": [
    "instance = InstanceCVRPTWUI('instances/ORTEC_Test_01.txt')\n",
    "\n",
    "if instance.isValid():\n",
    "    instance.calculateDistances()\n",
    "    import numpy\n",
    "    nLoc = len(instance.Coordinates)\n",
    "    C = numpy.asarray( [ [ instance.calcDistance[i][j] for j in range(nLoc) ] for i in range(nLoc) ] )\n",
    "\n",
    "    print(C)\n",
    "    \n",
    "    for t in instance.Tools:\n",
    "        print(t)\n",
    "    for c in instance.Coordinates:\n",
    "        print(c)\n",
    "    for r in instance.Requests:\n",
    "        print(r)"
   ]
  },
  {
   "cell_type": "markdown",
   "metadata": {},
   "source": [
    "Now let us assume that you write your solution to `ORTEC_Test_01.sol`. \n",
    "You may validate your solution with the code below.\n",
    "Note that the very last line writes a new file, called `ORTEC_Test_01.extra.sol`, as described on the section **Extra information in the solution text file** at page 6 of https://co2020-ba-vu.challenges.ortec.com/pdf/Challenge_problem.pdf"
   ]
  },
  {
   "cell_type": "code",
   "execution_count": 6,
   "metadata": {},
   "outputs": [
    {
     "output_type": "stream",
     "name": "stdout",
     "text": "errors:\nSolution file ORTEC_Test_01.sol could not be read.\nwarnings:\nUnknown solution file type, assuming 'txt'.\n"
    },
    {
     "output_type": "error",
     "ename": "AttributeError",
     "evalue": "'SolutionCVRPTWUI' object has no attribute 'Dataset'",
     "traceback": [
      "\u001b[0;31m---------------------------------------------------------------------------\u001b[0m",
      "\u001b[0;31mAttributeError\u001b[0m                            Traceback (most recent call last)",
      "\u001b[0;32m<ipython-input-6-dcf2383cd4c3>\u001b[0m in \u001b[0;36m<module>\u001b[0;34m\u001b[0m\n\u001b[1;32m      5\u001b[0m     \u001b[0mprint\u001b[0m\u001b[0;34m(\u001b[0m\u001b[0;34m'warnings:'\u001b[0m\u001b[0;34m)\u001b[0m\u001b[0;34m\u001b[0m\u001b[0;34m\u001b[0m\u001b[0m\n\u001b[1;32m      6\u001b[0m     \u001b[0mprint\u001b[0m\u001b[0;34m(\u001b[0m\u001b[0;34m'\\n'\u001b[0m\u001b[0;34m.\u001b[0m\u001b[0mjoin\u001b[0m\u001b[0;34m(\u001b[0m\u001b[0msolution\u001b[0m\u001b[0;34m.\u001b[0m\u001b[0mwarningReport\u001b[0m\u001b[0;34m)\u001b[0m\u001b[0;34m)\u001b[0m\u001b[0;34m\u001b[0m\u001b[0;34m\u001b[0m\u001b[0m\n\u001b[0;32m----> 7\u001b[0;31m \u001b[0msolution\u001b[0m\u001b[0;34m.\u001b[0m\u001b[0mwriteSolution\u001b[0m\u001b[0;34m(\u001b[0m\u001b[0;34m'ORTEC_Test_01.extra.sol'\u001b[0m\u001b[0;34m,\u001b[0m\u001b[0;32mTrue\u001b[0m\u001b[0;34m)\u001b[0m\u001b[0;34m\u001b[0m\u001b[0;34m\u001b[0m\u001b[0m\n\u001b[0m",
      "\u001b[0;32m~/Documents/Combinatorial/VRP-Case-14/ParticipantsSuite/SolutionCVRPTWUI.py\u001b[0m in \u001b[0;36mwriteSolution\u001b[0;34m(self, filename, writeExtra)\u001b[0m\n\u001b[1;32m    495\u001b[0m             \u001b[0mres\u001b[0m \u001b[0;34m=\u001b[0m \u001b[0mself\u001b[0m\u001b[0;34m.\u001b[0m\u001b[0m_writeSolutionXML\u001b[0m\u001b[0;34m(\u001b[0m\u001b[0mfilename\u001b[0m\u001b[0;34m,\u001b[0m\u001b[0mwriteExtra\u001b[0m\u001b[0;34m)\u001b[0m\u001b[0;34m\u001b[0m\u001b[0;34m\u001b[0m\u001b[0m\n\u001b[1;32m    496\u001b[0m         \u001b[0;32melse\u001b[0m\u001b[0;34m:\u001b[0m\u001b[0;34m\u001b[0m\u001b[0;34m\u001b[0m\u001b[0m\n\u001b[0;32m--> 497\u001b[0;31m             \u001b[0mres\u001b[0m \u001b[0;34m=\u001b[0m \u001b[0mself\u001b[0m\u001b[0;34m.\u001b[0m\u001b[0m_writeSolutionTXT\u001b[0m\u001b[0;34m(\u001b[0m\u001b[0mfilename\u001b[0m\u001b[0;34m,\u001b[0m\u001b[0mwriteExtra\u001b[0m\u001b[0;34m)\u001b[0m\u001b[0;34m\u001b[0m\u001b[0;34m\u001b[0m\u001b[0m\n\u001b[0m\u001b[1;32m    498\u001b[0m         \u001b[0;32mif\u001b[0m \u001b[0mres\u001b[0m\u001b[0;34m[\u001b[0m\u001b[0;36m0\u001b[0m\u001b[0;34m]\u001b[0m\u001b[0;34m:\u001b[0m\u001b[0;34m\u001b[0m\u001b[0;34m\u001b[0m\u001b[0m\n\u001b[1;32m    499\u001b[0m             \u001b[0mprint\u001b[0m\u001b[0;34m(\u001b[0m\u001b[0;34m'Solution file written to %s'\u001b[0m \u001b[0;34m%\u001b[0m \u001b[0mfilename\u001b[0m\u001b[0;34m)\u001b[0m\u001b[0;34m\u001b[0m\u001b[0;34m\u001b[0m\u001b[0m\n",
      "\u001b[0;32m~/Documents/Combinatorial/VRP-Case-14/ParticipantsSuite/SolutionCVRPTWUI.py\u001b[0m in \u001b[0;36m_writeSolutionTXT\u001b[0;34m(self, filename, writeExtra)\u001b[0m\n\u001b[1;32m    508\u001b[0m \u001b[0;34m\u001b[0m\u001b[0m\n\u001b[1;32m    509\u001b[0m         \u001b[0;32mwith\u001b[0m \u001b[0mfd\u001b[0m\u001b[0;34m:\u001b[0m\u001b[0;34m\u001b[0m\u001b[0;34m\u001b[0m\u001b[0m\n\u001b[0;32m--> 510\u001b[0;31m             \u001b[0mself\u001b[0m\u001b[0;34m.\u001b[0m\u001b[0m_writeAssignment\u001b[0m\u001b[0;34m(\u001b[0m\u001b[0mfd\u001b[0m\u001b[0;34m,\u001b[0m\u001b[0mself\u001b[0m\u001b[0;34m.\u001b[0m\u001b[0mLANG\u001b[0m\u001b[0;34m.\u001b[0m\u001b[0mTXT\u001b[0m\u001b[0;34m.\u001b[0m\u001b[0mdataset\u001b[0m\u001b[0;34m,\u001b[0m\u001b[0mself\u001b[0m\u001b[0;34m.\u001b[0m\u001b[0mDataset\u001b[0m\u001b[0;34m)\u001b[0m\u001b[0;34m\u001b[0m\u001b[0;34m\u001b[0m\u001b[0m\n\u001b[0m\u001b[1;32m    511\u001b[0m             \u001b[0mself\u001b[0m\u001b[0;34m.\u001b[0m\u001b[0m_writeAssignment\u001b[0m\u001b[0;34m(\u001b[0m\u001b[0mfd\u001b[0m\u001b[0;34m,\u001b[0m\u001b[0mself\u001b[0m\u001b[0;34m.\u001b[0m\u001b[0mLANG\u001b[0m\u001b[0;34m.\u001b[0m\u001b[0mTXT\u001b[0m\u001b[0;34m.\u001b[0m\u001b[0mname\u001b[0m\u001b[0;34m,\u001b[0m\u001b[0mself\u001b[0m\u001b[0;34m.\u001b[0m\u001b[0mName\u001b[0m\u001b[0;34m)\u001b[0m\u001b[0;34m\u001b[0m\u001b[0;34m\u001b[0m\u001b[0m\n\u001b[1;32m    512\u001b[0m             \u001b[0mfd\u001b[0m\u001b[0;34m.\u001b[0m\u001b[0mwrite\u001b[0m\u001b[0;34m(\u001b[0m\u001b[0;34m'\\n'\u001b[0m\u001b[0;34m)\u001b[0m\u001b[0;34m\u001b[0m\u001b[0;34m\u001b[0m\u001b[0m\n",
      "\u001b[0;31mAttributeError\u001b[0m: 'SolutionCVRPTWUI' object has no attribute 'Dataset'"
     ]
    }
   ],
   "source": [
    "solution = SolutionCVRPTWUI('ORTEC_Test_01.sol',instance,continueOnErr=True)\n",
    "if not solution.isValid():\n",
    "    print('errors:')\n",
    "    print('\\n'.join(solution.errorReport))\n",
    "    print('warnings:')\n",
    "    print('\\n'.join(solution.warningReport))\n",
    "solution.writeSolution('solutions/ORTEC_Test_01.extra.sol',True)"
   ]
  },
  {
   "cell_type": "code",
   "execution_count": null,
   "metadata": {},
   "outputs": [],
   "source": []
  }
 ],
 "metadata": {
  "kernelspec": {
   "display_name": "Python 3",
   "language": "python",
   "name": "python3"
  },
  "language_info": {
   "codemirror_mode": {
    "name": "ipython",
    "version": 3
   },
   "file_extension": ".py",
   "mimetype": "text/x-python",
   "name": "python",
   "nbconvert_exporter": "python",
   "pygments_lexer": "ipython3",
   "version": "3.8.2-final"
  }
 },
 "nbformat": 4,
 "nbformat_minor": 2
}