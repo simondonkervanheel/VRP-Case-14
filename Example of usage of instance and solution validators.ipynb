{
 "cells": [
  {
   "cell_type": "markdown",
   "metadata": {},
   "source": [
    "# Example of usage of the instance and solution validators \n",
    "\n",
    "This notebook assumes that https://co2020-ba-vu.challenges.ortec.com/zips/Validator.zip has been unpacked to a subdirectory of the current directory called `ParticipantsSuite`, changes to a different location are obvious. \n",
    "\n",
    "It also assumes a subdirectory `instances` containing the instance files. "
   ],
   "execution_count": null,
   "outputs": []
  },
  {
   "cell_type": "code",
   "execution_count": null,
   "metadata": {},
   "outputs": [],
   "source": [
    "import sys\n",
    "import os\n",
    "sys.path.append('./ParticipantsSuite')\n",
    "\n",
    "from InstanceCVRPTWUI import InstanceCVRPTWUI\n",
    "from SolutionCVRPTWUI import SolutionCVRPTWUI"
   ]
  },
  {
   "cell_type": "markdown",
   "metadata": {},
   "source": [
    "Assuming that what you mean by 'how to use the code of the VeroLog solver?' is actually a question about the instance and solution validators, please find examples below. "
   ],
   "execution_count": null,
   "outputs": []
  },
  {
   "cell_type": "code",
   "execution_count": null,
   "metadata": {},
   "outputs": [],
   "source": [
    "instance = InstanceCVRPTWUI('instances/ORTEC_Test_01.txt')\n",
    "\n",
    "if instance.isValid():\n",
    "    instance.calculateDistances()\n",
    "    import numpy\n",
    "    nLoc = len(instance.Coordinates)\n",
    "    C = numpy.asarray( [ [ instance.calcDistance[i][j] for j in range(nLoc) ] for i in range(nLoc) ] )\n",
    "\n",
    "    print(C)\n",
    "    \n",
    "    for t in instance.Tools:\n",
    "        print(t)\n",
    "    for c in instance.Coordinates:\n",
    "        print(c)\n",
    "    for r in instance.Requests:\n",
    "        print(r)"
   ]
  },
  {
   "cell_type": "markdown",
   "metadata": {},
   "source": [
    "Now let us assume that you write your solution to `ORTEC_Test_01.sol`. \n",
    "You may validate your solution with the code below.\n",
    "Note that the very last line writes a new file, called `ORTEC_Test_01.extra.sol`, as described on the section **Extra information in the solution text file** at page 6 of https://co2020-ba-vu.challenges.ortec.com/pdf/Challenge_problem.pdf"
   ],
   "execution_count": null,
   "outputs": []
  },
  {
   "cell_type": "code",
   "execution_count": null,
   "metadata": {},
   "outputs": [],
   "source": [
    "solution = SolutionCVRPTWUI('ORTEC_Test_01.sol',instance,continueOnErr=True)\n",
    "if not solution.isValid():\n",
    "    print('errors:')\n",
    "    print('\\n'.join(solution.errorReport))\n",
    "    print('warnings:')\n",
    "    print('\\n'.join(solution.warningReport))\n",
    "solution.writeSolution('instances/ORTEC_Test_01.extra.sol',True)"
   ]
  },
  {
   "cell_type": "code",
   "execution_count": null,
   "metadata": {},
   "outputs": [],
   "source": []
  }
 ],
 "metadata": {
  "kernelspec": {
   "display_name": "Python 3",
   "language": "python",
   "name": "python3"
  },
  "language_info": {
   "codemirror_mode": {
    "name": "ipython",
    "version": 3
   },
   "file_extension": ".py",
   "mimetype": "text/x-python",
   "name": "python",
   "nbconvert_exporter": "python",
   "pygments_lexer": "ipython3",
   "version": "3.8.2-final"
  }
 },
 "nbformat": 4,
 "nbformat_minor": 2
}