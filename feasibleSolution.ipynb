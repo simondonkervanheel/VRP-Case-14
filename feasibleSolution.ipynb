{
 "nbformat": 4,
 "nbformat_minor": 2,
 "metadata": {
  "language_info": {
   "name": "python",
   "codemirror_mode": {
    "name": "ipython",
    "version": 3
   },
   "version": "3.8.2-final"
  },
  "orig_nbformat": 2,
  "file_extension": ".py",
  "mimetype": "text/x-python",
  "name": "python",
  "npconvert_exporter": "python",
  "pygments_lexer": "ipython3",
  "version": 3,
  "kernelspec": {
   "name": "python38264bit416b15eceb1b4365a6a0e8f77963ade1",
   "display_name": "Python 3.8.2 64-bit"
  }
 },
 "cells": [
  {
   "cell_type": "markdown",
   "metadata": {},
   "source": [
    "# My test"
   ],
   "execution_count": null,
   "outputs": []
  },
  {
   "cell_type": "code",
   "execution_count": null,
   "metadata": {},
   "outputs": [],
   "source": [
    "import sys\n",
    "import os\n",
    "import pandas as pd\n",
    "import matplotlib.pyplot as plt"
   ]
  },
  {
   "cell_type": "code",
   "execution_count": null,
   "metadata": {},
   "outputs": [],
   "source": [
    "f_name = 'co2020_challenge_r200d15_5'\n",
    "f1 = f_name + '.txt'\n",
    "f2 = f_name + '.sol.txt'\n",
    "\n",
    "sys.path.append('./ParticipantsSuite')\n",
    "from InstanceCVRPTWUI import InstanceCVRPTWUI\n",
    "from SolutionCVRPTWUI import SolutionCVRPTWUI\n",
    "instance = InstanceCVRPTWUI(f1)"
   ]
  },
  {
   "cell_type": "code",
   "execution_count": null,
   "metadata": {},
   "outputs": [],
   "source": [
    "if instance.isValid():\n",
    "    instance.calculateDistances()\n",
    "\n",
    "import numpy\n",
    "nLoc = len(instance.Coordinates)\n",
    "d_df = pd.DataFrame([ [ instance.calcDistance[i][j] for j in range(nLoc) ] for i in range(nLoc) ])\n",
    "\n",
    "t_df = pd.DataFrame([(i.ID, i.weight, i.amount, i.cost) for i in instance.Tools], columns=['ID','weight','amount','cost']).set_index('ID')\n",
    "r_df = pd.DataFrame([(i.ID, i.node, i.fromDay, i.toDay, i.numDays, i.tool, i.toolCount) for i in instance.Requests], columns=['ID','node','fromDay','toDay','numDays','tool','toolCount']).set_index('ID')\n",
    "c_df = pd.DataFrame([(i.ID, i.X, i.Y) for i in instance.Coordinates], columns=['ID','X','Y']).set_index('ID')"
   ]
  },
  {
   "cell_type": "code",
   "execution_count": null,
   "metadata": {},
   "outputs": [],
   "source": [
    "r_df_m = r_df.merge(c_df, left_on='node', right_index=True)\n",
    "r_df_m = r_df_m.merge(t_df, left_on='tool', right_index=True)\n",
    "r_df_m['size'] = r_df_m.toolCount * r_df_m.weight\n",
    "r_df_m.drop(columns=['weight','amount','cost'], axis=1, inplace=True)\n",
    "\n",
    "# initialize scheduled delivery and pickup by fromDay\n",
    "r_df_m['scheduled_d'] = r_df_m.fromDay\n",
    "r_df_m['scheduled_p'] = r_df_m.fromDay + r_df_m.numDays\n",
    "r_df_schedule = r_df_m.copy()"
   ]
  },
  {
   "cell_type": "code",
   "execution_count": null,
   "metadata": {},
   "outputs": [],
   "source": [
    "r_df_schedule[r_df_schedule.scheduled_d==1].sort_values(['scheduled_d','scheduled_p','node']).head()"
   ]
  },
  {
   "cell_type": "code",
   "execution_count": null,
   "metadata": {},
   "outputs": [],
   "source": [
    "inventory_df = t_df.copy()\n",
    "inventory_df['in_use'] = 0\n",
    "inventory_df['used'] = 0\n",
    "inventory_df.drop(columns=['weight','cost'])"
   ]
  },
  {
   "cell_type": "code",
   "execution_count": null,
   "metadata": {
    "tags": [
     "outputPrepend"
    ]
   },
   "outputs": [],
   "source": [
    "r_df_schedule = r_df_m.copy()\n",
    "\n",
    "inventory_df = t_df.copy()\n",
    "inventory_df['in_use'] = 0\n",
    "inventory_df['used'] = 0\n",
    "inventory_df.drop(columns=['weight','cost'])\n",
    "\n",
    "last_day = (r_df_schedule['toDay'] + r_df_schedule['numDays']).max()\n",
    "for c_day in range(last_day):\n",
    "    # i+1\n",
    "    df_d = r_df_schedule[r_df_schedule.scheduled_d == (c_day+1)].sort_values(['toDay','numDays'])\n",
    "    df_p = r_df_schedule[r_df_schedule.scheduled_p == (c_day+1)]\n",
    "\n",
    "    #print(\"inventory start day {}\".format(c_day+1))\n",
    "    #print(inventory_df[['amount','in_use','used']])\n",
    "    print(\"\\n\")\n",
    "    print(\"Day: {}\".format(c_day))\n",
    "\n",
    "    d_ids = []\n",
    "    p_ids = []\n",
    "\n",
    "    for i,r in df_d.iterrows():\n",
    "    \n",
    "        # if there is inventory\n",
    "        old_stock = inventory_df.loc[r.tool,'amount']\n",
    "        new_stock = old_stock - r.toolCount\n",
    "        if (new_stock) >= 0:\n",
    "            #if r.tool == 4:\n",
    "            #    print(\"{} took {}\".format(i,r.toolCount))\n",
    "            inventory_df.loc[r.tool,'amount'] = new_stock\n",
    "            inventory_df.loc[r.tool, 'in_use'] += r.toolCount \n",
    "            r_df_schedule.loc[i, 'scheduled_p'] = r.scheduled_d + r.numDays\n",
    "            d_ids.append(i)\n",
    "        else:\n",
    "            # toDay condition!!!\n",
    "            if (r.scheduled_d + 1) > r.toDay:\n",
    "                print(\"WARNING: too late delivery\")\n",
    "            old_day = r_df_schedule.loc[i, 'scheduled_d']\n",
    "            new_day = old_day + 1\n",
    "            r_df_schedule.loc[i, 'scheduled_d'] = new_day\n",
    "            print(\"Note: rescheduled delivery from {} -> {}\".format(old_day,r_df_schedule.loc[i, 'scheduled_d']))      \n",
    "\n",
    "    for i,r in df_p.iterrows():\n",
    "        if r.tool == 4:\n",
    "            c4 += r.toolCount\n",
    "\n",
    "        p_ids.append(i)\n",
    "\n",
    "        # add picked-up goods to inventory\n",
    "        old_stock = inventory_df.loc[r.tool,'amount']\n",
    "        new_stock = old_stock + r.toolCount\n",
    "        inventory_df.loc[r.tool,'amount'] = new_stock\n",
    "        inventory_df.loc[r.tool, 'in_use'] -= r.toolCount \n",
    "\n",
    "    for i,r in inventory_df.iterrows(): \n",
    "        if r.in_use > r.used:\n",
    "              inventory_df.loc[i, 'used'] = r.in_use\n",
    "\n",
    "    #print(\"delivery ids: {}\".format(d_ids))\n",
    "    #print(\"pickup ids: {}\".format(p_ids))\n",
    "\n",
    "#r_df_schedule.sort_values(['scheduled_d','scheduled_p','node'])\n",
    ""
   ]
  },
  {
   "cell_type": "code",
   "execution_count": null,
   "metadata": {},
   "outputs": [],
   "source": [
    "route_df = r_df_schedule.copy()\n",
    "route_df = route_df.merge(d_df[0], left_on='node', right_index=True)\n",
    "route_df.rename(columns={0:'distance'}, inplace=True)\n",
    "route_df['distance'] = route_df['distance']**2\n",
    "route_df.reset_index(inplace=True)\n",
    "\n",
    "route_d_df = route_df[['scheduled_d','ID','distance']].copy()\n",
    "route_d_df['route'] = route_df['ID'].apply(lambda x: [0,x,0])\n",
    "route_d_df.rename(columns={'scheduled_d':'day'}, inplace=True)\n",
    "\n",
    "route_p_df = route_df[['scheduled_p','ID','distance']].copy()\n",
    "route_p_df['route'] = route_df['ID'].apply(lambda x: [0,-x,0])\n",
    "route_p_df.rename(columns={'scheduled_p':'day'}, inplace=True)\n",
    "\n",
    "route_df = pd.concat([route_d_df,route_p_df])\n",
    "\n",
    "route_df.sort_values('day')"
   ]
  },
  {
   "cell_type": "code",
   "execution_count": null,
   "metadata": {},
   "outputs": [],
   "source": [
    "with open(f2, 'w') as sol:\n",
    "\n",
    "    sol.write(\"{} = {}\\n\".format(instance.LANG.TXT.dataset, instance.Dataset))\n",
    "    sol.write(\"{} = {}\\n\".format(instance.LANG.TXT.name, instance.Name))\n",
    "\n",
    "    days = route_df.day.sort_values().unique()\n",
    "    for d in days:\n",
    "        sol.write(\"\\n\")\n",
    "\n",
    "        vehicles = route_df[route_df.day == d]\n",
    "        no_vehicles = len(vehicles.index)\n",
    "\n",
    "        sol.write(\"DAY = {}\\n\".format(d))\n",
    "        sol.write(\"NUMBER_OF_VEHICLES = {}\\n\".format(no_vehicles))\n",
    "\n",
    "        vec = 1\n",
    "        for i,r in vehicles.iterrows():\n",
    "            route = \"\\t\".join(map(str,r.route))\n",
    "            sol.write(\"{}\\tR\\t{}\\n\".format(vec,route))\n",
    "            vec += 1\n",
    "    sol.close()"
   ]
  },
  {
   "cell_type": "code",
   "execution_count": null,
   "metadata": {},
   "outputs": [],
   "source": [
    "solution = SolutionCVRPTWUI(f2,instance,continueOnErr=True)\n",
    "if not solution.isValid():\n",
    "    print('errors:')\n",
    "    print('\\n'.join(solution.errorReport))\n",
    "    print('warnings:')\n",
    "    print('\\n'.join(solution.warningReport))\n",
    "solution.writeSolution(f2,True)"
   ]
  }
 ]
}