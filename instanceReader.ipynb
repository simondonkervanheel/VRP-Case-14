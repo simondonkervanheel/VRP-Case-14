{
 "cells": [
  {
   "cell_type": "markdown",
   "metadata": {},
   "source": [
    "# Instance validator to dataframe\n",
    "\n",
    "It also assumes a subdirectory `instances` containing the instance files. "
   ],
   "execution_count": null,
   "outputs": []
  },
  {
   "cell_type": "code",
   "execution_count": null,
   "metadata": {},
   "outputs": [],
   "source": []
  },
  {
   "cell_type": "code",
   "execution_count": null,
   "metadata": {},
   "outputs": [],
   "source": [
    "import re\n",
    "import pandas as pd\n",
    "from scipy.spatial import distance_matrix"
   ]
  },
  {
   "cell_type": "code",
   "execution_count": null,
   "metadata": {},
   "outputs": [],
   "source": [
    "# skips blank lines\n",
    "def nextLine(f):\n",
    "    l = f.readline().rstrip()\n",
    "    while  (not l):\n",
    "        l = f.readline().rstrip()\n",
    "    return l\n",
    "\n",
    "# name = \"int\"\n",
    "def intFromLine(l):\n",
    "    return int(re.search(\"(?<==\\s)\\d+\", l).group())\n",
    "\n",
    "# name = \"string\"\n",
    "def stringFromLine(l):\n",
    "    return int(re.search(\"(?<==\\s)\\d+\", l).group())\n",
    "\n",
    "def readTool(l):\n",
    "    r = re.split(\"\\t\",l)\n",
    "    tool = {\n",
    "        \"id\": int(r[0]),\n",
    "        \"size\": int(r[1]),\n",
    "        \"capacity\": int(r[2]),\n",
    "        \"cost\": int(r[3])\n",
    "    }\n",
    "    return tool\n",
    "\n",
    "def readCoordinate(l):\n",
    "    r = re.split(\"\\t\",l)\n",
    "    coordinate = {\n",
    "        \"id\": int(r[0]),\n",
    "        \"x\": int(r[1]),\n",
    "        \"y\": int(r[2])\n",
    "    }\n",
    "    return coordinate\n",
    "\n",
    "def readRequest(l):\n",
    "    r = re.split(\"\\t\",l)\n",
    "    request = {\n",
    "        \"id\": int(r[0]),\n",
    "        \"location_id\": int(r[1]),\n",
    "        \"start-day\": int(r[2]),\n",
    "        \"end-day\": int(r[3]),\n",
    "        \"duration\": int(r[4]),\n",
    "        \"tool_id\": int(r[5]),\n",
    "        \"quantity\": int(r[6]),\n",
    "    }\n",
    "    return request"
   ]
  },
  {
   "cell_type": "code",
   "execution_count": null,
   "metadata": {},
   "outputs": [],
   "source": [
    "f=open(\"instances/co2020_challenge_r100d10_1.txt\", \"r\")\n",
    "\n",
    "# HANDLE FILE INFO\n",
    "DATASET = re.search(\"(?<==\\s).+\", nextLine(f)).group()\n",
    "NAME = re.search(\"(?<==\\s).+\", nextLine(f)).group()\n",
    "\n",
    "# HANDLE GENERAL INFO\n",
    "DAYS = intFromLine(nextLine(f))\n",
    "CAPACITY = intFromLine(nextLine(f))\n",
    "MAX_TRIP_DISTANCE = intFromLine(nextLine(f))\n",
    "DEPOT_COORDINATE = intFromLine(nextLine(f))\n",
    "\n",
    "# HANDLE VEHICLE COSTS\n",
    "VEHICLE_COST = intFromLine(nextLine(f))\n",
    "VEHICLE_DAY_COST = intFromLine(nextLine(f))\n",
    "DISTANCE_COST = intFromLine(nextLine(f))\n",
    "\n",
    "# HANDLE TOOLS\n",
    "TOOLS = intFromLine(nextLine(f))\n",
    "tools = []\n",
    "for i in range(TOOLS):\n",
    "    tools.append(readTool(f.readline()))\n",
    "\n",
    "# HANDLE COORDINATES\n",
    "COORDINATES = intFromLine(nextLine(f))\n",
    "coordinates = []\n",
    "for i in range(COORDINATES):\n",
    "    coordinates.append(readCoordinate(f.readline()))\n",
    "\n",
    "# HANDLE REQUESTS\n",
    "REQUESTS = intFromLine(nextLine(f))\n",
    "requests = []\n",
    "for i in range(REQUESTS):\n",
    "    requests.append(readRequest(f.readline()))\n",
    "\n",
    "t_df = pd.DataFrame(tools).set_index(\"id\")\n",
    "c_df = pd.DataFrame(coordinates).set_index(\"id\")\n",
    "r_df = pd.DataFrame(requests).set_index(\"id\")\n",
    "\n",
    "# CREATE DISTANCE MATRIX\n",
    "dm_df = pd.DataFrame(distance_matrix(c_df.values, c_df.values), index=c_df.index, columns=c_df.index)\n",
    "f.close()"
   ]
  },
  {
   "cell_type": "code",
   "execution_count": null,
   "metadata": {},
   "outputs": [],
   "source": [
    "t_df"
   ]
  },
  {
   "cell_type": "code",
   "execution_count": null,
   "metadata": {},
   "outputs": [],
   "source": [
    "c_df"
   ]
  },
  {
   "cell_type": "code",
   "execution_count": null,
   "metadata": {},
   "outputs": [],
   "source": [
    "r_df"
   ]
  },
  {
   "cell_type": "code",
   "execution_count": null,
   "metadata": {},
   "outputs": [],
   "source": [
    "dm_df"
   ]
  }
 ],
 "metadata": {
  "file_extension": ".py",
  "kernelspec": {
   "display_name": "Python 3",
   "language": "python",
   "name": "python3"
  },
  "language_info": {
   "codemirror_mode": {
    "name": "ipython",
    "version": 3
   },
   "file_extension": ".py",
   "mimetype": "text/x-python",
   "name": "python",
   "nbconvert_exporter": "python",
   "pygments_lexer": "ipython3",
   "version": "3.6.5"
  },
  "mimetype": "text/x-python",
  "name": "python",
  "npconvert_exporter": "python",
  "pygments_lexer": "ipython3",
  "version": 3
 },
 "nbformat": 4,
 "nbformat_minor": 2
}